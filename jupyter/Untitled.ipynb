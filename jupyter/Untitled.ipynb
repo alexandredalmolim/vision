{
 "cells": [
  {
   "cell_type": "code",
   "execution_count": 13,
   "id": "fde14e4f-7abb-4be1-95b3-862fd918d1ab",
   "metadata": {},
   "outputs": [
    {
     "name": "stdout",
     "output_type": "stream",
     "text": [
      "Requirement already satisfied: Watershed in /home/awangenh/anaconda3/lib/python3.9/site-packages (2.2.2)\n"
     ]
    }
   ],
   "source": [
    "# Instale o Modelo de Watershed de Avinash Kak\n",
    "# Se você está rodando o notebook localmente e usando \n",
    "# Anaconda/Jupyter server e já fez isso uma vez, não necessita repetr\n",
    "!pip install Watershed"
   ]
  },
  {
   "cell_type": "code",
   "execution_count": 1,
   "id": "2567830e-89d6-43a0-af0d-1d72f174750f",
   "metadata": {},
   "outputs": [],
   "source": [
    "# Importe o Modelo de Watershed de Avinash Kak\n",
    "from Watershed import *\n",
    "\n",
    "# Instancie o Modelo de Watershed de Avinash Kak\n",
    "shed = Watershed(\n",
    "           data_image = \"../data/mocambique1.png\",\n",
    "           binary_or_gray_or_color = \"color\",https://www.sciencedirect.com/science/article/pii/S0924271622003367\n",
    "           size_for_calculations = 128,\n",
    "           sigma = 1,\n",
    "           gradient_threshold_as_fraction = 0.1,\n",
    "           level_decimation_factor = 16,\n",
    "           padding = 20,\n",
    "       )\n"
   ]
  },
  {
   "cell_type": "code",
   "execution_count": null,
   "id": "8d3c647f-ec6a-414b-8fb9-fe7abc7fca7d",
   "metadata": {},
   "outputs": [
    {
     "data": {
      "text/plain": [
       "'Watershed'"
      ]
     },
     "execution_count": 6,
     "metadata": {},
     "output_type": "execute_result"
    }
   ],
   "source": []
  }
 ],
 "metadata": {
  "kernelspec": {
   "display_name": "Python 3 (ipykernel)",
   "language": "python",
   "name": "python3"
  },
  "language_info": {
   "codemirror_mode": {
    "name": "ipython",
    "version": 3
   },
   "file_extension": ".py",
   "mimetype": "text/x-python",
   "name": "python",
   "nbconvert_exporter": "python",
   "pygments_lexer": "ipython3",
   "version": "3.9.12"
  }
 },
 "nbformat": 4,
 "nbformat_minor": 5
}
